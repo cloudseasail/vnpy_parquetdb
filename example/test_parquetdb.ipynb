{
 "cells": [
  {
   "cell_type": "code",
   "execution_count": 1,
   "metadata": {},
   "outputs": [
    {
     "name": "stdout",
     "output_type": "stream",
     "text": [
      "d:\\Workspace\\Quant\\vnpy_parquetdb\\test\\.vntrader\\storage\n"
     ]
    }
   ],
   "source": [
    "import sys\n",
    "sys.path.append(\"..\")\n",
    "import polars as pl\n",
    "pl.Config.set_fmt_float('full')\n",
    "\n",
    "from vnpy_parquetdb import Database\n",
    "database = Database()\n",
    "print(database.storage_path)"
   ]
  },
  {
   "cell_type": "markdown",
   "metadata": {},
   "source": [
    "# Parquetdb Overview "
   ]
  },
  {
   "cell_type": "code",
   "execution_count": 2,
   "metadata": {},
   "outputs": [
    {
     "data": {
      "text/html": [
       "<div><style>\n",
       ".dataframe > thead > tr,\n",
       ".dataframe > tbody > tr {\n",
       "  text-align: right;\n",
       "  white-space: pre-wrap;\n",
       "}\n",
       "</style>\n",
       "<small>shape: (4, 7)</small><table border=\"1\" class=\"dataframe\"><thead><tr><th>code</th><th>symbol</th><th>exchange</th><th>unit</th><th>count</th><th>start_datetimef</th><th>end_datetimef</th></tr><tr><td>str</td><td>str</td><td>str</td><td>str</td><td>i64</td><td>f64</td><td>f64</td></tr></thead><tbody><tr><td>&quot;HC&quot;</td><td>&quot;HC2501&quot;</td><td>&quot;SHFE&quot;</td><td>&quot;tick&quot;</td><td>3</td><td>20240902085900.5</td><td>20240904230000</td></tr><tr><td>&quot;RB&quot;</td><td>&quot;RB2501&quot;</td><td>&quot;SHFE&quot;</td><td>&quot;tick&quot;</td><td>3</td><td>20240902085900.5</td><td>20240904230000</td></tr><tr><td>&quot;HC&quot;</td><td>&quot;HC2501&quot;</td><td>&quot;SHFE&quot;</td><td>&quot;1m&quot;</td><td>60</td><td>20240902090100</td><td>20240902100000</td></tr><tr><td>&quot;RB&quot;</td><td>&quot;RB2501&quot;</td><td>&quot;SHFE&quot;</td><td>&quot;1m&quot;</td><td>60</td><td>20240902090100</td><td>20240902100000</td></tr></tbody></table></div>"
      ],
      "text/plain": [
       "shape: (4, 7)\n",
       "┌──────┬────────┬──────────┬──────┬───────┬──────────────────┬────────────────┐\n",
       "│ code ┆ symbol ┆ exchange ┆ unit ┆ count ┆ start_datetimef  ┆ end_datetimef  │\n",
       "│ ---  ┆ ---    ┆ ---      ┆ ---  ┆ ---   ┆ ---              ┆ ---            │\n",
       "│ str  ┆ str    ┆ str      ┆ str  ┆ i64   ┆ f64              ┆ f64            │\n",
       "╞══════╪════════╪══════════╪══════╪═══════╪══════════════════╪════════════════╡\n",
       "│ HC   ┆ HC2501 ┆ SHFE     ┆ tick ┆ 3     ┆ 20240902085900.5 ┆ 20240904230000 │\n",
       "│ RB   ┆ RB2501 ┆ SHFE     ┆ tick ┆ 3     ┆ 20240902085900.5 ┆ 20240904230000 │\n",
       "│ HC   ┆ HC2501 ┆ SHFE     ┆ 1m   ┆ 60    ┆ 20240902090100   ┆ 20240902100000 │\n",
       "│ RB   ┆ RB2501 ┆ SHFE     ┆ 1m   ┆ 60    ┆ 20240902090100   ┆ 20240902100000 │\n",
       "└──────┴────────┴──────────┴──────┴───────┴──────────────────┴────────────────┘"
      ]
     },
     "execution_count": 2,
     "metadata": {},
     "output_type": "execute_result"
    }
   ],
   "source": [
    "from vnpy_parquetdb.overview import ParquetdbOverview\n",
    "ParquetdbOverview().load(refresh=True)"
   ]
  },
  {
   "cell_type": "code",
   "execution_count": 3,
   "metadata": {},
   "outputs": [
    {
     "data": {
      "text/plain": [
       "[BarOverview(symbol='HC2501', exchange=<Exchange.SHFE: 'SHFE'>, interval=<Interval.MINUTE: '1m'>, count=60, start=datetime.datetime(2024, 9, 2, 9, 1, tzinfo=zoneinfo.ZoneInfo(key='Asia/Shanghai')), end=datetime.datetime(2024, 9, 2, 10, 0, tzinfo=zoneinfo.ZoneInfo(key='Asia/Shanghai'))),\n",
       " BarOverview(symbol='RB2501', exchange=<Exchange.SHFE: 'SHFE'>, interval=<Interval.MINUTE: '1m'>, count=60, start=datetime.datetime(2024, 9, 2, 9, 1, tzinfo=zoneinfo.ZoneInfo(key='Asia/Shanghai')), end=datetime.datetime(2024, 9, 2, 10, 0, tzinfo=zoneinfo.ZoneInfo(key='Asia/Shanghai')))]"
      ]
     },
     "execution_count": 3,
     "metadata": {},
     "output_type": "execute_result"
    }
   ],
   "source": [
    "bar_overview = database.get_bar_overview()\n",
    "bar_overview[:2]"
   ]
  },
  {
   "cell_type": "code",
   "execution_count": 4,
   "metadata": {},
   "outputs": [
    {
     "data": {
      "text/plain": [
       "[TickOverview(symbol='HC2501', exchange=<Exchange.SHFE: 'SHFE'>, count=3, start=datetime.datetime(2024, 9, 2, 8, 59, 0, 500000, tzinfo=zoneinfo.ZoneInfo(key='Asia/Shanghai')), end=datetime.datetime(2024, 9, 4, 23, 0, tzinfo=zoneinfo.ZoneInfo(key='Asia/Shanghai'))),\n",
       " TickOverview(symbol='RB2501', exchange=<Exchange.SHFE: 'SHFE'>, count=3, start=datetime.datetime(2024, 9, 2, 8, 59, 0, 500000, tzinfo=zoneinfo.ZoneInfo(key='Asia/Shanghai')), end=datetime.datetime(2024, 9, 4, 23, 0, tzinfo=zoneinfo.ZoneInfo(key='Asia/Shanghai')))]"
      ]
     },
     "execution_count": 4,
     "metadata": {},
     "output_type": "execute_result"
    }
   ],
   "source": [
    "tick_overview = database.get_tick_overview()\n",
    "tick_overview[:2]"
   ]
  },
  {
   "cell_type": "markdown",
   "metadata": {},
   "source": [
    "# Parquetdb Load"
   ]
  },
  {
   "cell_type": "code",
   "execution_count": 5,
   "metadata": {},
   "outputs": [
    {
     "data": {
      "text/plain": [
       "[TickData(gateway_name='DBFILE', extra=None, symbol='HC2501', exchange=<Exchange.SHFE: 'SHFE'>, datetime=datetime.datetime(2024, 9, 2, 8, 59, 0, 500000, tzinfo=zoneinfo.ZoneInfo(key='Asia/Shanghai')), name='', volume=211385.0, turnover=0, open_interest=1023421.0, last_price=3335.0, last_volume=0, limit_up=3635, limit_down=3035, open_price=3335.0, high_price=3360.0, low_price=3328.0, pre_close=0, bid_price_1=3334.0, bid_price_2=0, bid_price_3=0, bid_price_4=0, bid_price_5=0, ask_price_1=3335.0, ask_price_2=0, ask_price_3=0, ask_price_4=0, ask_price_5=0, bid_volume_1=24.0, bid_volume_2=0, bid_volume_3=0, bid_volume_4=0, bid_volume_5=0, ask_volume_1=643.0, ask_volume_2=0, ask_volume_3=0, ask_volume_4=0, ask_volume_5=0, localtime=None),\n",
       " TickData(gateway_name='DBFILE', extra=None, symbol='HC2501', exchange=<Exchange.SHFE: 'SHFE'>, datetime=datetime.datetime(2024, 9, 2, 9, 0, 0, 500000, tzinfo=zoneinfo.ZoneInfo(key='Asia/Shanghai')), name='', volume=211500.0, turnover=0, open_interest=1023484.0, last_price=3334.0, last_volume=0, limit_up=3634, limit_down=3034, open_price=3334.0, high_price=3360.0, low_price=3328.0, pre_close=0, bid_price_1=3333.0, bid_price_2=0, bid_price_3=0, bid_price_4=0, bid_price_5=0, ask_price_1=3334.0, ask_price_2=0, ask_price_3=0, ask_price_4=0, ask_price_5=0, bid_volume_1=32.0, bid_volume_2=0, bid_volume_3=0, bid_volume_4=0, bid_volume_5=0, ask_volume_1=6.0, ask_volume_2=0, ask_volume_3=0, ask_volume_4=0, ask_volume_5=0, localtime=None),\n",
       " TickData(gateway_name='DBFILE', extra=None, symbol='HC2501', exchange=<Exchange.SHFE: 'SHFE'>, datetime=datetime.datetime(2024, 9, 2, 9, 0, 1, tzinfo=zoneinfo.ZoneInfo(key='Asia/Shanghai')), name='', volume=211850.0, turnover=0, open_interest=1023655.0, last_price=3332.0, last_volume=0, limit_up=3632, limit_down=3032, open_price=3332.0, high_price=3360.0, low_price=3328.0, pre_close=0, bid_price_1=3331.0, bid_price_2=0, bid_price_3=0, bid_price_4=0, bid_price_5=0, ask_price_1=3332.0, ask_price_2=0, ask_price_3=0, ask_price_4=0, ask_price_5=0, bid_volume_1=46.0, bid_volume_2=0, bid_volume_3=0, bid_volume_4=0, bid_volume_5=0, ask_volume_1=181.0, ask_volume_2=0, ask_volume_3=0, ask_volume_4=0, ask_volume_5=0, localtime=None),\n",
       " TickData(gateway_name='DBFILE', extra=None, symbol='HC2501', exchange=<Exchange.SHFE: 'SHFE'>, datetime=datetime.datetime(2024, 9, 2, 9, 0, 1, 500000, tzinfo=zoneinfo.ZoneInfo(key='Asia/Shanghai')), name='', volume=212225.0, turnover=0, open_interest=1023817.0, last_price=3330.0, last_volume=0, limit_up=3630, limit_down=3030, open_price=3330.0, high_price=3360.0, low_price=3328.0, pre_close=0, bid_price_1=3330.0, bid_price_2=0, bid_price_3=0, bid_price_4=0, bid_price_5=0, ask_price_1=3331.0, ask_price_2=0, ask_price_3=0, ask_price_4=0, ask_price_5=0, bid_volume_1=540.0, bid_volume_2=0, bid_volume_3=0, bid_volume_4=0, bid_volume_5=0, ask_volume_1=5.0, ask_volume_2=0, ask_volume_3=0, ask_volume_4=0, ask_volume_5=0, localtime=None),\n",
       " TickData(gateway_name='DBFILE', extra=None, symbol='HC2501', exchange=<Exchange.SHFE: 'SHFE'>, datetime=datetime.datetime(2024, 9, 2, 9, 0, 2, tzinfo=zoneinfo.ZoneInfo(key='Asia/Shanghai')), name='', volume=213085.0, turnover=0, open_interest=1024017.0, last_price=3331.0, last_volume=0, limit_up=3631, limit_down=3031, open_price=3331.0, high_price=3360.0, low_price=3328.0, pre_close=0, bid_price_1=3329.0, bid_price_2=0, bid_price_3=0, bid_price_4=0, bid_price_5=0, ask_price_1=3331.0, ask_price_2=0, ask_price_3=0, ask_price_4=0, ask_price_5=0, bid_volume_1=252.0, bid_volume_2=0, bid_volume_3=0, bid_volume_4=0, bid_volume_5=0, ask_volume_1=1.0, ask_volume_2=0, ask_volume_3=0, ask_volume_4=0, ask_volume_5=0, localtime=None)]"
      ]
     },
     "execution_count": 5,
     "metadata": {},
     "output_type": "execute_result"
    }
   ],
   "source": [
    "from datetime import timedelta\n",
    "tick = tick_overview[0]\n",
    "ticks = database.load_tick_data(tick.symbol, tick.exchange, tick.start, tick.start + timedelta(hours=1))\n",
    "ticks[:5]"
   ]
  },
  {
   "cell_type": "code",
   "execution_count": 6,
   "metadata": {},
   "outputs": [
    {
     "data": {
      "text/plain": [
       "[BarData(gateway_name='DBFILE', extra=None, symbol='HC2501', exchange=<Exchange.SHFE: 'SHFE'>, datetime=datetime.datetime(2024, 9, 2, 9, 1, tzinfo=zoneinfo.ZoneInfo(key='Asia/Shanghai')), interval=<Interval.MINUTE: '1m'>, volume=233326.0, turnover=0.0, open_interest=1025970.0, open_price=3334.0, high_price=3334.0, low_price=3317.0, close_price=3319.0),\n",
       " BarData(gateway_name='DBFILE', extra=None, symbol='HC2501', exchange=<Exchange.SHFE: 'SHFE'>, datetime=datetime.datetime(2024, 9, 2, 9, 2, tzinfo=zoneinfo.ZoneInfo(key='Asia/Shanghai')), interval=<Interval.MINUTE: '1m'>, volume=9251.0, turnover=0.0, open_interest=1027208.0, open_price=3319.0, high_price=3323.0, low_price=3315.0, close_price=3319.0),\n",
       " BarData(gateway_name='DBFILE', extra=None, symbol='HC2501', exchange=<Exchange.SHFE: 'SHFE'>, datetime=datetime.datetime(2024, 9, 2, 9, 3, tzinfo=zoneinfo.ZoneInfo(key='Asia/Shanghai')), interval=<Interval.MINUTE: '1m'>, volume=8987.0, turnover=0.0, open_interest=1028717.0, open_price=3316.0, high_price=3322.0, low_price=3313.0, close_price=3314.0),\n",
       " BarData(gateway_name='DBFILE', extra=None, symbol='HC2501', exchange=<Exchange.SHFE: 'SHFE'>, datetime=datetime.datetime(2024, 9, 2, 9, 4, tzinfo=zoneinfo.ZoneInfo(key='Asia/Shanghai')), interval=<Interval.MINUTE: '1m'>, volume=8324.0, turnover=0.0, open_interest=1029361.0, open_price=3314.0, high_price=3314.0, low_price=3310.0, close_price=3311.0),\n",
       " BarData(gateway_name='DBFILE', extra=None, symbol='HC2501', exchange=<Exchange.SHFE: 'SHFE'>, datetime=datetime.datetime(2024, 9, 2, 9, 5, tzinfo=zoneinfo.ZoneInfo(key='Asia/Shanghai')), interval=<Interval.MINUTE: '1m'>, volume=14992.0, turnover=0.0, open_interest=1032515.0, open_price=3311.0, high_price=3311.0, low_price=3303.0, close_price=3303.0)]"
      ]
     },
     "execution_count": 6,
     "metadata": {},
     "output_type": "execute_result"
    }
   ],
   "source": [
    "from datetime import timedelta\n",
    "bar = bar_overview[0]\n",
    "bars = database.load_bar_data(bar.symbol, bar.exchange, bar.interval, bar.start, bar.end)\n",
    "bars[:5]"
   ]
  },
  {
   "cell_type": "markdown",
   "metadata": {},
   "source": [
    "# Parquetdb Save"
   ]
  },
  {
   "cell_type": "code",
   "execution_count": 30,
   "metadata": {},
   "outputs": [],
   "source": [
    "bars = database.load_bar_data(bar.symbol, bar.exchange, bar.interval, bar.start, bar.end, format='polars')\n",
    "\n",
    "symbol =bar.symbol + \"9999\"\n",
    "database.save_bar_data(bars, stream=False, symbol=symbol, exchange=bar.exchange, interval=bar.interval)\n",
    "# database.load_bar_data(symbol, bar.exchange, bar.interval, bar.start, bar.end, format='polars')"
   ]
  },
  {
   "cell_type": "markdown",
   "metadata": {},
   "source": [
    "# Parquetdb Delete"
   ]
  },
  {
   "cell_type": "code",
   "execution_count": 31,
   "metadata": {},
   "outputs": [],
   "source": [
    "database.delete_bar_data(symbol, bar.exchange, bar.interval)"
   ]
  },
  {
   "cell_type": "code",
   "execution_count": null,
   "metadata": {},
   "outputs": [],
   "source": []
  }
 ],
 "metadata": {
  "kernelspec": {
   "display_name": "base",
   "language": "python",
   "name": "python3"
  },
  "language_info": {
   "codemirror_mode": {
    "name": "ipython",
    "version": 3
   },
   "file_extension": ".py",
   "mimetype": "text/x-python",
   "name": "python",
   "nbconvert_exporter": "python",
   "pygments_lexer": "ipython3",
   "version": "3.10.13"
  }
 },
 "nbformat": 4,
 "nbformat_minor": 2
}
