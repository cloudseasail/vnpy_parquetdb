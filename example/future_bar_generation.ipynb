{
 "cells": [
  {
   "cell_type": "markdown",
   "metadata": {},
   "source": [
    "# Support bar generation from ticks,  optimized for futures only"
   ]
  },
  {
   "cell_type": "code",
   "execution_count": 1,
   "metadata": {},
   "outputs": [],
   "source": [
    "import sys\n",
    "sys.path.append(\"..\")\n",
    "import polars as pl\n",
    "pl.Config.set_fmt_float('full')\n",
    "\n",
    "from vnpy_parquetdb import Database\n",
    "database = Database()"
   ]
  },
  {
   "cell_type": "code",
   "execution_count": 8,
   "metadata": {},
   "outputs": [
    {
     "data": {
      "text/html": [
       "<div><style>\n",
       ".dataframe > thead > tr,\n",
       ".dataframe > tbody > tr {\n",
       "  text-align: right;\n",
       "  white-space: pre-wrap;\n",
       "}\n",
       "</style>\n",
       "<small>shape: (60, 8)</small><table border=\"1\" class=\"dataframe\"><thead><tr><th>datetimef</th><th>high</th><th>open</th><th>low</th><th>close</th><th>volume</th><th>turnover</th><th>position</th></tr><tr><td>f64</td><td>f64</td><td>f64</td><td>f64</td><td>f64</td><td>f64</td><td>f64</td><td>f64</td></tr></thead><tbody><tr><td>20240902090100</td><td>3334</td><td>3334</td><td>3317</td><td>3319</td><td>233326</td><td>0</td><td>1025970</td></tr><tr><td>20240902090200</td><td>3323</td><td>3319</td><td>3315</td><td>3319</td><td>9251</td><td>0</td><td>1027208</td></tr><tr><td>20240902090300</td><td>3322</td><td>3316</td><td>3313</td><td>3314</td><td>8987</td><td>0</td><td>1028717</td></tr><tr><td>20240902090400</td><td>3314</td><td>3314</td><td>3310</td><td>3311</td><td>8324</td><td>0</td><td>1029361</td></tr><tr><td>20240902090500</td><td>3311</td><td>3311</td><td>3303</td><td>3303</td><td>14992</td><td>0</td><td>1032515</td></tr><tr><td>&hellip;</td><td>&hellip;</td><td>&hellip;</td><td>&hellip;</td><td>&hellip;</td><td>&hellip;</td><td>&hellip;</td><td>&hellip;</td></tr><tr><td>20240902095600</td><td>3310</td><td>3308</td><td>3307</td><td>3308</td><td>947</td><td>0</td><td>1052797</td></tr><tr><td>20240902095700</td><td>3309</td><td>3308</td><td>3305</td><td>3306</td><td>1271</td><td>0</td><td>1052928</td></tr><tr><td>20240902095800</td><td>3306</td><td>3306</td><td>3304</td><td>3305</td><td>1896</td><td>0</td><td>1053309</td></tr><tr><td>20240902095900</td><td>3307</td><td>3304</td><td>3304</td><td>3307</td><td>1037</td><td>0</td><td>1053446</td></tr><tr><td>20240902100000</td><td>3308</td><td>3306</td><td>3304</td><td>3305</td><td>2035</td><td>0</td><td>1053160</td></tr></tbody></table></div>"
      ],
      "text/plain": [
       "shape: (60, 8)\n",
       "┌────────────────┬──────┬──────┬──────┬───────┬────────┬──────────┬──────────┐\n",
       "│ datetimef      ┆ high ┆ open ┆ low  ┆ close ┆ volume ┆ turnover ┆ position │\n",
       "│ ---            ┆ ---  ┆ ---  ┆ ---  ┆ ---   ┆ ---    ┆ ---      ┆ ---      │\n",
       "│ f64            ┆ f64  ┆ f64  ┆ f64  ┆ f64   ┆ f64    ┆ f64      ┆ f64      │\n",
       "╞════════════════╪══════╪══════╪══════╪═══════╪════════╪══════════╪══════════╡\n",
       "│ 20240902090100 ┆ 3334 ┆ 3334 ┆ 3317 ┆ 3319  ┆ 233326 ┆ 0        ┆ 1025970  │\n",
       "│ 20240902090200 ┆ 3323 ┆ 3319 ┆ 3315 ┆ 3319  ┆ 9251   ┆ 0        ┆ 1027208  │\n",
       "│ 20240902090300 ┆ 3322 ┆ 3316 ┆ 3313 ┆ 3314  ┆ 8987   ┆ 0        ┆ 1028717  │\n",
       "│ 20240902090400 ┆ 3314 ┆ 3314 ┆ 3310 ┆ 3311  ┆ 8324   ┆ 0        ┆ 1029361  │\n",
       "│ 20240902090500 ┆ 3311 ┆ 3311 ┆ 3303 ┆ 3303  ┆ 14992  ┆ 0        ┆ 1032515  │\n",
       "│ …              ┆ …    ┆ …    ┆ …    ┆ …     ┆ …      ┆ …        ┆ …        │\n",
       "│ 20240902095600 ┆ 3310 ┆ 3308 ┆ 3307 ┆ 3308  ┆ 947    ┆ 0        ┆ 1052797  │\n",
       "│ 20240902095700 ┆ 3309 ┆ 3308 ┆ 3305 ┆ 3306  ┆ 1271   ┆ 0        ┆ 1052928  │\n",
       "│ 20240902095800 ┆ 3306 ┆ 3306 ┆ 3304 ┆ 3305  ┆ 1896   ┆ 0        ┆ 1053309  │\n",
       "│ 20240902095900 ┆ 3307 ┆ 3304 ┆ 3304 ┆ 3307  ┆ 1037   ┆ 0        ┆ 1053446  │\n",
       "│ 20240902100000 ┆ 3308 ┆ 3306 ┆ 3304 ┆ 3305  ┆ 2035   ┆ 0        ┆ 1053160  │\n",
       "└────────────────┴──────┴──────┴──────┴───────┴────────┴──────────┴──────────┘"
      ]
     },
     "execution_count": 8,
     "metadata": {},
     "output_type": "execute_result"
    }
   ],
   "source": [
    "from vnpy_parquetdb.future_bar_generator import bar_generation_from_ticks\n",
    "from vnpy.trader.constant import Exchange, Interval\n",
    "from datetime import datetime, timedelta\n",
    "\n",
    "symbol = \"HC2501\"\n",
    "exchange = Exchange('SHFE')\n",
    "interval = Interval.MINUTE\n",
    "start = datetime(2024, 9, 2, 9, 0, 0)\n",
    "end = start + timedelta(hours=1)\n",
    "\n",
    "# must use polars format to do bar generation\n",
    "ticks = database.load_tick_data(symbol, exchange, start, end, format='polars')\n",
    "bars = bar_generation_from_ticks(ticks, symbol, interval)\n",
    "bars"
   ]
  },
  {
   "cell_type": "code",
   "execution_count": 12,
   "metadata": {},
   "outputs": [
    {
     "data": {
      "text/plain": [
       "[BarData(gateway_name='DBFILE', extra=None, symbol='HC2501', exchange=<Exchange.SHFE: 'SHFE'>, datetime=datetime.datetime(2024, 9, 2, 9, 1, tzinfo=zoneinfo.ZoneInfo(key='Asia/Shanghai')), interval=<Interval.MINUTE: '1m'>, volume=233326.0, turnover=0.0, open_interest=1025970.0, open_price=3334.0, high_price=3334.0, low_price=3317.0, close_price=3319.0),\n",
       " BarData(gateway_name='DBFILE', extra=None, symbol='HC2501', exchange=<Exchange.SHFE: 'SHFE'>, datetime=datetime.datetime(2024, 9, 2, 9, 2, tzinfo=zoneinfo.ZoneInfo(key='Asia/Shanghai')), interval=<Interval.MINUTE: '1m'>, volume=9251.0, turnover=0.0, open_interest=1027208.0, open_price=3319.0, high_price=3323.0, low_price=3315.0, close_price=3319.0),\n",
       " BarData(gateway_name='DBFILE', extra=None, symbol='HC2501', exchange=<Exchange.SHFE: 'SHFE'>, datetime=datetime.datetime(2024, 9, 2, 9, 3, tzinfo=zoneinfo.ZoneInfo(key='Asia/Shanghai')), interval=<Interval.MINUTE: '1m'>, volume=8987.0, turnover=0.0, open_interest=1028717.0, open_price=3316.0, high_price=3322.0, low_price=3313.0, close_price=3314.0),\n",
       " BarData(gateway_name='DBFILE', extra=None, symbol='HC2501', exchange=<Exchange.SHFE: 'SHFE'>, datetime=datetime.datetime(2024, 9, 2, 9, 4, tzinfo=zoneinfo.ZoneInfo(key='Asia/Shanghai')), interval=<Interval.MINUTE: '1m'>, volume=8324.0, turnover=0.0, open_interest=1029361.0, open_price=3314.0, high_price=3314.0, low_price=3310.0, close_price=3311.0),\n",
       " BarData(gateway_name='DBFILE', extra=None, symbol='HC2501', exchange=<Exchange.SHFE: 'SHFE'>, datetime=datetime.datetime(2024, 9, 2, 9, 5, tzinfo=zoneinfo.ZoneInfo(key='Asia/Shanghai')), interval=<Interval.MINUTE: '1m'>, volume=14992.0, turnover=0.0, open_interest=1032515.0, open_price=3311.0, high_price=3311.0, low_price=3303.0, close_price=3303.0),\n",
       " BarData(gateway_name='DBFILE', extra=None, symbol='HC2501', exchange=<Exchange.SHFE: 'SHFE'>, datetime=datetime.datetime(2024, 9, 2, 9, 6, tzinfo=zoneinfo.ZoneInfo(key='Asia/Shanghai')), interval=<Interval.MINUTE: '1m'>, volume=7209.0, turnover=0.0, open_interest=1033995.0, open_price=3303.0, high_price=3307.0, low_price=3302.0, close_price=3305.0),\n",
       " BarData(gateway_name='DBFILE', extra=None, symbol='HC2501', exchange=<Exchange.SHFE: 'SHFE'>, datetime=datetime.datetime(2024, 9, 2, 9, 7, tzinfo=zoneinfo.ZoneInfo(key='Asia/Shanghai')), interval=<Interval.MINUTE: '1m'>, volume=8423.0, turnover=0.0, open_interest=1035207.0, open_price=3305.0, high_price=3313.0, low_price=3305.0, close_price=3310.0),\n",
       " BarData(gateway_name='DBFILE', extra=None, symbol='HC2501', exchange=<Exchange.SHFE: 'SHFE'>, datetime=datetime.datetime(2024, 9, 2, 9, 8, tzinfo=zoneinfo.ZoneInfo(key='Asia/Shanghai')), interval=<Interval.MINUTE: '1m'>, volume=5646.0, turnover=0.0, open_interest=1035785.0, open_price=3311.0, high_price=3316.0, low_price=3309.0, close_price=3316.0),\n",
       " BarData(gateway_name='DBFILE', extra=None, symbol='HC2501', exchange=<Exchange.SHFE: 'SHFE'>, datetime=datetime.datetime(2024, 9, 2, 9, 9, tzinfo=zoneinfo.ZoneInfo(key='Asia/Shanghai')), interval=<Interval.MINUTE: '1m'>, volume=5329.0, turnover=0.0, open_interest=1036605.0, open_price=3315.0, high_price=3319.0, low_price=3315.0, close_price=3319.0),\n",
       " BarData(gateway_name='DBFILE', extra=None, symbol='HC2501', exchange=<Exchange.SHFE: 'SHFE'>, datetime=datetime.datetime(2024, 9, 2, 9, 10, tzinfo=zoneinfo.ZoneInfo(key='Asia/Shanghai')), interval=<Interval.MINUTE: '1m'>, volume=5636.0, turnover=0.0, open_interest=1038193.0, open_price=3317.0, high_price=3321.0, low_price=3313.0, close_price=3314.0)]"
      ]
     },
     "execution_count": 12,
     "metadata": {},
     "output_type": "execute_result"
    }
   ],
   "source": [
    "# Save to database file\n",
    "database.save_bar_data(bars, symbol=symbol, exchange=exchange, interval=interval)\n",
    "database.load_bar_data(symbol, exchange, interval, start, end)[:10]"
   ]
  },
  {
   "cell_type": "markdown",
   "metadata": {},
   "source": []
  }
 ],
 "metadata": {
  "kernelspec": {
   "display_name": "base",
   "language": "python",
   "name": "python3"
  },
  "language_info": {
   "codemirror_mode": {
    "name": "ipython",
    "version": 3
   },
   "file_extension": ".py",
   "mimetype": "text/x-python",
   "name": "python",
   "nbconvert_exporter": "python",
   "pygments_lexer": "ipython3",
   "version": "3.10.13"
  }
 },
 "nbformat": 4,
 "nbformat_minor": 2
}
